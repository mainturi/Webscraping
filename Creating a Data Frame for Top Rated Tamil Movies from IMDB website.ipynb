{
 "cells": [
  {
   "cell_type": "code",
   "execution_count": null,
   "metadata": {},
   "outputs": [],
   "source": [
    "#Creating a Data Frame for Top Rated Tamil Movies from IMDB website\n",
    "\n",
    "import urllib\n",
    "from bs4 import BeautifulSoup\n",
    "import pandas as pd\n",
    "\n",
    "page = urllib.urlopen(\"https://www.imdb.com/india/top-rated-tamil-movies/\").read()\n",
    "\n",
    "soup = BeautifulSoup(page, 'lxml')\n",
    "table = soup.find('tbody', class_=\"lister-list\")\n",
    "table_row = table.find_all('tr')\n",
    "title=[]\n",
    "rating=[]\n",
    "year=[]\n",
    "for tr in table_row:\n",
    "    title.append(str(tr.findAll('a', href=True)[1].text))\n",
    "    year.append(str(tr.find('span',class_=\"secondaryInfo\").text.strip(\"()\")))\n",
    "    rating.append(str(tr.findAll('td')[2].text.strip()))\n",
    "cols={'Title':title, 'Rating':rating, 'Year':year}\n",
    "df=pd.DataFrame(cols, columns=['Title', 'Year', 'Rating'])\n",
    "print (df)"
   ]
  }
 ],
 "metadata": {
  "kernelspec": {
   "display_name": "Python 2",
   "language": "python",
   "name": "python2"
  },
  "language_info": {
   "codemirror_mode": {
    "name": "ipython",
    "version": 2
   },
   "file_extension": ".py",
   "mimetype": "text/x-python",
   "name": "python",
   "nbconvert_exporter": "python",
   "pygments_lexer": "ipython2",
   "version": "2.7.15"
  }
 },
 "nbformat": 4,
 "nbformat_minor": 2
}
